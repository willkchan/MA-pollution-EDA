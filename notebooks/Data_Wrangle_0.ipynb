{
 "cells": [
  {
   "cell_type": "code",
   "execution_count": 8,
   "metadata": {
    "collapsed": true
   },
   "outputs": [],
   "source": [
    "# import necessary libraries\n",
    "import pandas as pd\n",
    "import numpy as np\n",
    "import matplotlib.pyplot as plt\n",
    "import seaborn as sns\n",
    "\n",
    "from IPython.core.display import display"
   ]
  },
  {
   "cell_type": "code",
   "execution_count": 4,
   "outputs": [
    {
     "name": "stderr",
     "output_type": "stream",
     "text": [
      "/home/wkc/.local/lib/python3.8/site-packages/IPython/core/interactiveshell.py:3146: DtypeWarning: Columns (17) have mixed types.Specify dtype option on import or set low_memory=False.\n",
      "  has_raised = await self.run_ast_nodes(code_ast.body, cell_name,\n"
     ]
    }
   ],
   "source": [
    "path_file = '../data/raw/hourly_88101_2019.csv'\n",
    "pm_25_2019 = pd.read_csv(path_file)"
   ],
   "metadata": {
    "collapsed": false,
    "pycharm": {
     "name": "#%%\n"
    }
   }
  },
  {
   "cell_type": "code",
   "execution_count": 12,
   "outputs": [
    {
     "data": {
      "text/plain": "(5442389, 24)"
     },
     "metadata": {},
     "output_type": "display_data"
    },
    {
     "data": {
      "text/plain": "State Code               int64\nCounty Code              int64\nSite Num                 int64\nParameter Code           int64\nPOC                      int64\nLatitude               float64\nLongitude              float64\nDatum                   object\nParameter Name          object\nDate Local              object\nTime Local              object\nDate GMT                object\nTime GMT                object\nSample Measurement     float64\nUnits of Measure        object\nMDL                    float64\nUncertainty            float64\nQualifier               object\nMethod Type             object\nMethod Code              int64\nMethod Name             object\nState Name              object\nCounty Name             object\nDate of Last Change     object\ndtype: object"
     },
     "metadata": {},
     "output_type": "display_data"
    },
    {
     "data": {
      "text/plain": "   State Code  County Code  Site Num  Parameter Code  POC   Latitude  \\\n0           1           73        23           88101    3  33.553056   \n1           1           73        23           88101    3  33.553056   \n2           1           73        23           88101    3  33.553056   \n3           1           73        23           88101    3  33.553056   \n4           1           73        23           88101    3  33.553056   \n\n   Longitude  Datum            Parameter Name  Date Local  ...  \\\n0    -86.815  WGS84  PM2.5 - Local Conditions  2019-01-01  ...   \n1    -86.815  WGS84  PM2.5 - Local Conditions  2019-01-01  ...   \n2    -86.815  WGS84  PM2.5 - Local Conditions  2019-01-01  ...   \n3    -86.815  WGS84  PM2.5 - Local Conditions  2019-01-01  ...   \n4    -86.815  WGS84  PM2.5 - Local Conditions  2019-01-01  ...   \n\n              Units of Measure  MDL Uncertainty  Qualifier Method Type  \\\n0  Micrograms/cubic meter (LC)  0.1         NaN          1         FEM   \n1  Micrograms/cubic meter (LC)  0.1         NaN          1         FEM   \n2  Micrograms/cubic meter (LC)  0.1         NaN          1         FEM   \n3  Micrograms/cubic meter (LC)  0.1         NaN          1         FEM   \n4  Micrograms/cubic meter (LC)  0.1         NaN          1         FEM   \n\n   Method Code                                        Method Name State Name  \\\n0          238  Teledyne T640X at 16.67 LPM - Broadband spectr...    Alabama   \n1          238  Teledyne T640X at 16.67 LPM - Broadband spectr...    Alabama   \n2          238  Teledyne T640X at 16.67 LPM - Broadband spectr...    Alabama   \n3          238  Teledyne T640X at 16.67 LPM - Broadband spectr...    Alabama   \n4          238  Teledyne T640X at 16.67 LPM - Broadband spectr...    Alabama   \n\n  County Name  Date of Last Change  \n0   Jefferson           2020-06-11  \n1   Jefferson           2020-06-11  \n2   Jefferson           2020-06-11  \n3   Jefferson           2020-06-11  \n4   Jefferson           2020-06-11  \n\n[5 rows x 24 columns]",
      "text/html": "<div>\n<style scoped>\n    .dataframe tbody tr th:only-of-type {\n        vertical-align: middle;\n    }\n\n    .dataframe tbody tr th {\n        vertical-align: top;\n    }\n\n    .dataframe thead th {\n        text-align: right;\n    }\n</style>\n<table border=\"1\" class=\"dataframe\">\n  <thead>\n    <tr style=\"text-align: right;\">\n      <th></th>\n      <th>State Code</th>\n      <th>County Code</th>\n      <th>Site Num</th>\n      <th>Parameter Code</th>\n      <th>POC</th>\n      <th>Latitude</th>\n      <th>Longitude</th>\n      <th>Datum</th>\n      <th>Parameter Name</th>\n      <th>Date Local</th>\n      <th>...</th>\n      <th>Units of Measure</th>\n      <th>MDL</th>\n      <th>Uncertainty</th>\n      <th>Qualifier</th>\n      <th>Method Type</th>\n      <th>Method Code</th>\n      <th>Method Name</th>\n      <th>State Name</th>\n      <th>County Name</th>\n      <th>Date of Last Change</th>\n    </tr>\n  </thead>\n  <tbody>\n    <tr>\n      <th>0</th>\n      <td>1</td>\n      <td>73</td>\n      <td>23</td>\n      <td>88101</td>\n      <td>3</td>\n      <td>33.553056</td>\n      <td>-86.815</td>\n      <td>WGS84</td>\n      <td>PM2.5 - Local Conditions</td>\n      <td>2019-01-01</td>\n      <td>...</td>\n      <td>Micrograms/cubic meter (LC)</td>\n      <td>0.1</td>\n      <td>NaN</td>\n      <td>1</td>\n      <td>FEM</td>\n      <td>238</td>\n      <td>Teledyne T640X at 16.67 LPM - Broadband spectr...</td>\n      <td>Alabama</td>\n      <td>Jefferson</td>\n      <td>2020-06-11</td>\n    </tr>\n    <tr>\n      <th>1</th>\n      <td>1</td>\n      <td>73</td>\n      <td>23</td>\n      <td>88101</td>\n      <td>3</td>\n      <td>33.553056</td>\n      <td>-86.815</td>\n      <td>WGS84</td>\n      <td>PM2.5 - Local Conditions</td>\n      <td>2019-01-01</td>\n      <td>...</td>\n      <td>Micrograms/cubic meter (LC)</td>\n      <td>0.1</td>\n      <td>NaN</td>\n      <td>1</td>\n      <td>FEM</td>\n      <td>238</td>\n      <td>Teledyne T640X at 16.67 LPM - Broadband spectr...</td>\n      <td>Alabama</td>\n      <td>Jefferson</td>\n      <td>2020-06-11</td>\n    </tr>\n    <tr>\n      <th>2</th>\n      <td>1</td>\n      <td>73</td>\n      <td>23</td>\n      <td>88101</td>\n      <td>3</td>\n      <td>33.553056</td>\n      <td>-86.815</td>\n      <td>WGS84</td>\n      <td>PM2.5 - Local Conditions</td>\n      <td>2019-01-01</td>\n      <td>...</td>\n      <td>Micrograms/cubic meter (LC)</td>\n      <td>0.1</td>\n      <td>NaN</td>\n      <td>1</td>\n      <td>FEM</td>\n      <td>238</td>\n      <td>Teledyne T640X at 16.67 LPM - Broadband spectr...</td>\n      <td>Alabama</td>\n      <td>Jefferson</td>\n      <td>2020-06-11</td>\n    </tr>\n    <tr>\n      <th>3</th>\n      <td>1</td>\n      <td>73</td>\n      <td>23</td>\n      <td>88101</td>\n      <td>3</td>\n      <td>33.553056</td>\n      <td>-86.815</td>\n      <td>WGS84</td>\n      <td>PM2.5 - Local Conditions</td>\n      <td>2019-01-01</td>\n      <td>...</td>\n      <td>Micrograms/cubic meter (LC)</td>\n      <td>0.1</td>\n      <td>NaN</td>\n      <td>1</td>\n      <td>FEM</td>\n      <td>238</td>\n      <td>Teledyne T640X at 16.67 LPM - Broadband spectr...</td>\n      <td>Alabama</td>\n      <td>Jefferson</td>\n      <td>2020-06-11</td>\n    </tr>\n    <tr>\n      <th>4</th>\n      <td>1</td>\n      <td>73</td>\n      <td>23</td>\n      <td>88101</td>\n      <td>3</td>\n      <td>33.553056</td>\n      <td>-86.815</td>\n      <td>WGS84</td>\n      <td>PM2.5 - Local Conditions</td>\n      <td>2019-01-01</td>\n      <td>...</td>\n      <td>Micrograms/cubic meter (LC)</td>\n      <td>0.1</td>\n      <td>NaN</td>\n      <td>1</td>\n      <td>FEM</td>\n      <td>238</td>\n      <td>Teledyne T640X at 16.67 LPM - Broadband spectr...</td>\n      <td>Alabama</td>\n      <td>Jefferson</td>\n      <td>2020-06-11</td>\n    </tr>\n  </tbody>\n</table>\n<p>5 rows × 24 columns</p>\n</div>"
     },
     "execution_count": 12,
     "metadata": {},
     "output_type": "execute_result"
    }
   ],
   "source": [
    "display(pm_25_2019.shape)\n",
    "display(pm_25_2019.dtypes)\n",
    "pm_25_2019.head()"
   ],
   "metadata": {
    "collapsed": false,
    "pycharm": {
     "name": "#%%\n"
    }
   }
  },
  {
   "cell_type": "code",
   "execution_count": 30,
   "outputs": [
    {
     "name": "stdout",
     "output_type": "stream",
     "text": [
      "State Code               52\n",
      "County Code             116\n",
      "Site Num                214\n",
      "Parameter Code            1\n",
      "POC                       9\n",
      "Latitude                650\n",
      "Longitude               650\n",
      "Datum                     2\n",
      "Parameter Name            1\n",
      "Date Local              365\n",
      "Time Local               24\n",
      "Date GMT                366\n",
      "Time GMT                 24\n",
      "Sample Measurement     1581\n",
      "Units of Measure          1\n",
      "MDL                       3\n",
      "Uncertainty               0\n",
      "Qualifier                35\n",
      "Method Type               1\n",
      "Method Code              11\n",
      "Method Name              11\n",
      "State Name               52\n",
      "County Name             399\n",
      "Date of Last Change     321\n",
      "dtype: int64\n"
     ]
    },
    {
     "data": {
      "text/plain": "['Parameter Code', 'Parameter Name', 'Units of Measure', 'Method Type']"
     },
     "execution_count": 30,
     "metadata": {},
     "output_type": "execute_result"
    }
   ],
   "source": [
    "# check variance of datatypes, not worried about object types over string types\n",
    "print(pm_25_2019.apply(lambda col: col.nunique()))\n",
    "\n",
    "# filter out unique values of 1\n",
    "low_variance_columns = [col for col in pm_25_2019 if pm_25_2019[col].nunique() == 1]\n",
    "low_variance_columns\n"
   ],
   "metadata": {
    "collapsed": false,
    "pycharm": {
     "name": "#%%\n"
    }
   }
  },
  {
   "cell_type": "code",
   "execution_count": 31,
   "outputs": [
    {
     "data": {
      "text/plain": "State Code               int64\nCounty Code              int64\nSite Num                 int64\nPOC                      int64\nLatitude               float64\nLongitude              float64\nDatum                   object\nDate Local              object\nTime Local              object\nDate GMT                object\nTime GMT                object\nSample Measurement     float64\nMDL                    float64\nUncertainty            float64\nQualifier               object\nMethod Code              int64\nMethod Name             object\nState Name              object\nCounty Name             object\nDate of Last Change     object\ndtype: object"
     },
     "execution_count": 31,
     "metadata": {},
     "output_type": "execute_result"
    }
   ],
   "source": [
    "# drop low variance columns\n",
    "pm_25_2019.drop(columns=low_variance_columns, inplace=True)\n",
    "pm_25_2019.dtypes"
   ],
   "metadata": {
    "collapsed": false,
    "pycharm": {
     "name": "#%%\n"
    }
   }
  },
  {
   "cell_type": "code",
   "execution_count": 33,
   "outputs": [],
   "source": [
    "# drop state and county codes because it appears like redundant data for analysis\n",
    "pm_25_2019.drop(columns=['State Code', 'County Code'], inplace=True)\n"
   ],
   "metadata": {
    "collapsed": false,
    "pycharm": {
     "name": "#%%\n"
    }
   }
  },
  {
   "cell_type": "code",
   "execution_count": 35,
   "outputs": [
    {
     "data": {
      "text/plain": "0         NaN\n1         NaN\n2         NaN\n3         NaN\n4         NaN\n           ..\n5442384   NaN\n5442385   NaN\n5442386   NaN\n5442387   NaN\n5442388   NaN\nName: Uncertainty, Length: 5442389, dtype: float64"
     },
     "metadata": {},
     "output_type": "display_data"
    },
    {
     "name": "stdout",
     "output_type": "stream",
     "text": [
      "Site Num                214\n",
      "POC                       9\n",
      "Latitude                650\n",
      "Longitude               650\n",
      "Datum                     2\n",
      "Date Local              365\n",
      "Time Local               24\n",
      "Date GMT                366\n",
      "Time GMT                 24\n",
      "Sample Measurement     1581\n",
      "MDL                       3\n",
      "Qualifier                35\n",
      "Method Code              11\n",
      "Method Name              11\n",
      "State Name               52\n",
      "County Name             399\n",
      "Date of Last Change     321\n",
      "dtype: int64\n"
     ]
    }
   ],
   "source": [
    "# check uncertainty\n",
    "display(pm_25_2019.Uncertainty)\n",
    "# drop uncertainty as it appear irrelevant to analysis and also all values are missing for this column\n",
    "pm_25_2019.drop(columns='Uncertainty', inplace=True)\n",
    "print(pm_25_2019.apply(lambda col: col.nunique()))"
   ],
   "metadata": {
    "collapsed": false,
    "pycharm": {
     "name": "#%%\n"
    }
   }
  },
  {
   "cell_type": "code",
   "execution_count": 36,
   "outputs": [
    {
     "data": {
      "text/plain": "(120316, 17)"
     },
     "metadata": {},
     "output_type": "display_data"
    },
    {
     "data": {
      "text/plain": "         Site Num  POC   Latitude  Longitude  Datum  Date Local Time Local  \\\n2221531         8    3  42.452299 -73.239648  NAD83  2019-01-01      00:00   \n2221532         8    3  42.452299 -73.239648  NAD83  2019-01-01      01:00   \n2221533         8    3  42.452299 -73.239648  NAD83  2019-01-01      02:00   \n2221534         8    3  42.452299 -73.239648  NAD83  2019-01-01      03:00   \n2221535         8    3  42.452299 -73.239648  NAD83  2019-01-01      04:00   \n\n           Date GMT Time GMT  Sample Measurement  MDL Qualifier  Method Code  \\\n2221531  2019-01-01    05:00                17.0  5.0       NaN          170   \n2221532  2019-01-01    06:00                11.0  5.0       NaN          170   \n2221533  2019-01-01    07:00                 8.0  5.0       NaN          170   \n2221534  2019-01-01    08:00                14.0  5.0       NaN          170   \n2221535  2019-01-01    09:00                 7.0  5.0       NaN          170   \n\n                                               Method Name     State Name  \\\n2221531  Met One BAM-1020 Mass Monitor w/VSCC - Beta At...  Massachusetts   \n2221532  Met One BAM-1020 Mass Monitor w/VSCC - Beta At...  Massachusetts   \n2221533  Met One BAM-1020 Mass Monitor w/VSCC - Beta At...  Massachusetts   \n2221534  Met One BAM-1020 Mass Monitor w/VSCC - Beta At...  Massachusetts   \n2221535  Met One BAM-1020 Mass Monitor w/VSCC - Beta At...  Massachusetts   \n\n        County Name Date of Last Change  \n2221531   Berkshire          2019-03-14  \n2221532   Berkshire          2019-03-14  \n2221533   Berkshire          2019-03-14  \n2221534   Berkshire          2019-03-14  \n2221535   Berkshire          2019-03-14  ",
      "text/html": "<div>\n<style scoped>\n    .dataframe tbody tr th:only-of-type {\n        vertical-align: middle;\n    }\n\n    .dataframe tbody tr th {\n        vertical-align: top;\n    }\n\n    .dataframe thead th {\n        text-align: right;\n    }\n</style>\n<table border=\"1\" class=\"dataframe\">\n  <thead>\n    <tr style=\"text-align: right;\">\n      <th></th>\n      <th>Site Num</th>\n      <th>POC</th>\n      <th>Latitude</th>\n      <th>Longitude</th>\n      <th>Datum</th>\n      <th>Date Local</th>\n      <th>Time Local</th>\n      <th>Date GMT</th>\n      <th>Time GMT</th>\n      <th>Sample Measurement</th>\n      <th>MDL</th>\n      <th>Qualifier</th>\n      <th>Method Code</th>\n      <th>Method Name</th>\n      <th>State Name</th>\n      <th>County Name</th>\n      <th>Date of Last Change</th>\n    </tr>\n  </thead>\n  <tbody>\n    <tr>\n      <th>2221531</th>\n      <td>8</td>\n      <td>3</td>\n      <td>42.452299</td>\n      <td>-73.239648</td>\n      <td>NAD83</td>\n      <td>2019-01-01</td>\n      <td>00:00</td>\n      <td>2019-01-01</td>\n      <td>05:00</td>\n      <td>17.0</td>\n      <td>5.0</td>\n      <td>NaN</td>\n      <td>170</td>\n      <td>Met One BAM-1020 Mass Monitor w/VSCC - Beta At...</td>\n      <td>Massachusetts</td>\n      <td>Berkshire</td>\n      <td>2019-03-14</td>\n    </tr>\n    <tr>\n      <th>2221532</th>\n      <td>8</td>\n      <td>3</td>\n      <td>42.452299</td>\n      <td>-73.239648</td>\n      <td>NAD83</td>\n      <td>2019-01-01</td>\n      <td>01:00</td>\n      <td>2019-01-01</td>\n      <td>06:00</td>\n      <td>11.0</td>\n      <td>5.0</td>\n      <td>NaN</td>\n      <td>170</td>\n      <td>Met One BAM-1020 Mass Monitor w/VSCC - Beta At...</td>\n      <td>Massachusetts</td>\n      <td>Berkshire</td>\n      <td>2019-03-14</td>\n    </tr>\n    <tr>\n      <th>2221533</th>\n      <td>8</td>\n      <td>3</td>\n      <td>42.452299</td>\n      <td>-73.239648</td>\n      <td>NAD83</td>\n      <td>2019-01-01</td>\n      <td>02:00</td>\n      <td>2019-01-01</td>\n      <td>07:00</td>\n      <td>8.0</td>\n      <td>5.0</td>\n      <td>NaN</td>\n      <td>170</td>\n      <td>Met One BAM-1020 Mass Monitor w/VSCC - Beta At...</td>\n      <td>Massachusetts</td>\n      <td>Berkshire</td>\n      <td>2019-03-14</td>\n    </tr>\n    <tr>\n      <th>2221534</th>\n      <td>8</td>\n      <td>3</td>\n      <td>42.452299</td>\n      <td>-73.239648</td>\n      <td>NAD83</td>\n      <td>2019-01-01</td>\n      <td>03:00</td>\n      <td>2019-01-01</td>\n      <td>08:00</td>\n      <td>14.0</td>\n      <td>5.0</td>\n      <td>NaN</td>\n      <td>170</td>\n      <td>Met One BAM-1020 Mass Monitor w/VSCC - Beta At...</td>\n      <td>Massachusetts</td>\n      <td>Berkshire</td>\n      <td>2019-03-14</td>\n    </tr>\n    <tr>\n      <th>2221535</th>\n      <td>8</td>\n      <td>3</td>\n      <td>42.452299</td>\n      <td>-73.239648</td>\n      <td>NAD83</td>\n      <td>2019-01-01</td>\n      <td>04:00</td>\n      <td>2019-01-01</td>\n      <td>09:00</td>\n      <td>7.0</td>\n      <td>5.0</td>\n      <td>NaN</td>\n      <td>170</td>\n      <td>Met One BAM-1020 Mass Monitor w/VSCC - Beta At...</td>\n      <td>Massachusetts</td>\n      <td>Berkshire</td>\n      <td>2019-03-14</td>\n    </tr>\n  </tbody>\n</table>\n</div>"
     },
     "execution_count": 36,
     "metadata": {},
     "output_type": "execute_result"
    }
   ],
   "source": [
    "# find obs where it is massachusetts\n",
    "MA = pm_25_2019['State Name'] == 'Massachusetts'\n",
    "ma_pm_25_2019 = pm_25_2019.loc[MA]\n",
    "display(ma_pm_25_2019.shape)\n",
    "ma_pm_25_2019.head()"
   ],
   "metadata": {
    "collapsed": false,
    "pycharm": {
     "name": "#%%\n"
    }
   }
  },
  {
   "cell_type": "code",
   "execution_count": 44,
   "outputs": [
    {
     "name": "stdout",
     "output_type": "stream",
     "text": [
      "Site Num                13\n",
      "POC                      2\n",
      "Latitude                14\n",
      "Longitude               14\n",
      "Datum                    2\n",
      "Date Local             365\n",
      "Time Local              24\n",
      "Date GMT               366\n",
      "Time GMT                24\n",
      "Sample Measurement      84\n",
      "MDL                      1\n",
      "Qualifier                1\n",
      "Method Code              1\n",
      "Method Name              1\n",
      "State Name               1\n",
      "County Name             10\n",
      "Date of Last Change     12\n",
      "dtype: int64\n"
     ]
    },
    {
     "data": {
      "text/plain": "['MDL', 'Qualifier', 'Method Code', 'Method Name', 'State Name']"
     },
     "execution_count": 44,
     "metadata": {},
     "output_type": "execute_result"
    }
   ],
   "source": [
    "# check and remove low variance columns in mass\n",
    "print(ma_pm_25_2019.apply(lambda col: col.nunique()))\n",
    "\n",
    "low_variance_ma_columns = [col for col in ma_pm_25_2019 if ma_pm_25_2019[col].nunique() == 1]\n",
    "low_variance_ma_columns"
   ],
   "metadata": {
    "collapsed": false,
    "pycharm": {
     "name": "#%%\n"
    }
   }
  },
  {
   "cell_type": "code",
   "execution_count": 46,
   "outputs": [
    {
     "name": "stderr",
     "output_type": "stream",
     "text": [
      "/home/wkc/.local/lib/python3.8/site-packages/pandas/core/frame.py:4167: SettingWithCopyWarning: \n",
      "A value is trying to be set on a copy of a slice from a DataFrame\n",
      "\n",
      "See the caveats in the documentation: https://pandas.pydata.org/pandas-docs/stable/user_guide/indexing.html#returning-a-view-versus-a-copy\n",
      "  return super().drop(\n"
     ]
    },
    {
     "data": {
      "text/plain": "None"
     },
     "metadata": {},
     "output_type": "display_data"
    }
   ],
   "source": [
    "# drop low variance columns\n",
    "ma_pm_25_2019.drop(columns=low_variance_ma_columns, inplace=True)\n",
    "ma_pm_25_2019.shape"
   ],
   "metadata": {
    "collapsed": false,
    "pycharm": {
     "name": "#%%\n"
    }
   }
  },
  {
   "cell_type": "code",
   "execution_count": 49,
   "outputs": [],
   "source": [
    "export_path = '../data/processed/ma_pm_25_2019.csv'\n",
    "ma_pm_25_2019.to_csv(export_path)"
   ],
   "metadata": {
    "collapsed": false,
    "pycharm": {
     "name": "#%%\n"
    }
   }
  }
 ],
 "metadata": {
  "kernelspec": {
   "display_name": "Python 3",
   "language": "python",
   "name": "python3"
  },
  "language_info": {
   "codemirror_mode": {
    "name": "ipython",
    "version": 2
   },
   "file_extension": ".py",
   "mimetype": "text/x-python",
   "name": "python",
   "nbconvert_exporter": "python",
   "pygments_lexer": "ipython2",
   "version": "2.7.6"
  }
 },
 "nbformat": 4,
 "nbformat_minor": 0
}